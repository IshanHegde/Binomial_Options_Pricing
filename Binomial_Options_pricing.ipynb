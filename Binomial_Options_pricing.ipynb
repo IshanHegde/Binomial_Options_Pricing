{
  "nbformat": 4,
  "nbformat_minor": 0,
  "metadata": {
    "colab": {
      "name": "Binomial_Options_pricing.ipynb",
      "provenance": [],
      "collapsed_sections": [],
      "authorship_tag": "ABX9TyO76IMBD4cY+9jWqlO7JiIr",
      "include_colab_link": true
    },
    "kernelspec": {
      "name": "python3",
      "display_name": "Python 3"
    },
    "language_info": {
      "name": "python"
    }
  },
  "cells": [
    {
      "cell_type": "markdown",
      "metadata": {
        "id": "view-in-github",
        "colab_type": "text"
      },
      "source": [
        "<a href=\"https://colab.research.google.com/github/IshanHegde/Binomial_Options_Pricing/blob/main/Binomial_Options_pricing.ipynb\" target=\"_parent\"><img src=\"https://colab.research.google.com/assets/colab-badge.svg\" alt=\"Open In Colab\"/></a>"
      ]
    },
    {
      "cell_type": "code",
      "metadata": {
        "id": "jnq7soRPrThL"
      },
      "source": [
        "import numpy as np\n",
        "import pandas as pd\n",
        "import scipy.special as special\n"
      ],
      "execution_count": null,
      "outputs": []
    },
    {
      "cell_type": "code",
      "metadata": {
        "id": "7XyJ7FKEr39G"
      },
      "source": [
        "def call_price(spot_price,strike_price, steps, mu, sigma, r):\n",
        "  price=0\n",
        "  u = 1 + mu*period+sigma*np.sqrt(period)\n",
        "  d = 1 + mu*period-sigma*np.sqrt(period)\n",
        "  q = (u-(1+r*period))/(u-d)\n",
        "  for i in range(steps):\n",
        "    price+= special.comb(steps,i)*np.power(q,i)*np.power((1-q),(steps-i))*max(np.power(u,i)*np.power(d,(steps-i))*spot_price-strike_price,0)\n",
        "  return price/(np.power((1+r*period),steps))\n",
        "\n",
        "\n",
        "spot_price=140\n",
        "strike_price=140\n",
        "steps = 6\n",
        "period = 1/12 \n",
        "mu = 0.02\n",
        "sigma = 0.3\n",
        "r = 0.002\n"
      ],
      "execution_count": null,
      "outputs": []
    },
    {
      "cell_type": "code",
      "metadata": {
        "colab": {
          "base_uri": "https://localhost:8080/"
        },
        "id": "fwqR5WsZv2ND",
        "outputId": "0727e5d3-e49a-4d71-c64c-0faef5e507cb"
      },
      "source": [
        "call_price(spot_price,strike_price, steps, mu, sigma, r)"
      ],
      "execution_count": null,
      "outputs": [
        {
          "output_type": "execute_result",
          "data": {
            "text/plain": [
              "11.4869627033173"
            ]
          },
          "metadata": {},
          "execution_count": 22
        }
      ]
    },
    {
      "cell_type": "code",
      "metadata": {
        "id": "DyT8nNWwscAC"
      },
      "source": [
        "a=call_price((1 + mu*period-sigma*np.sqrt(period))*spot_price,strike_price, steps-1, mu, sigma, r)\n",
        "b=call_price((1 + mu*period+sigma*np.sqrt(period))*spot_price,strike_price, steps-1, mu, sigma, r)"
      ],
      "execution_count": null,
      "outputs": []
    },
    {
      "cell_type": "code",
      "metadata": {
        "colab": {
          "base_uri": "https://localhost:8080/"
        },
        "id": "_wJAFy6l4M0a",
        "outputId": "b955ec01-42e3-4f42-fa96-368ebc01104d"
      },
      "source": [
        "print(a,b)"
      ],
      "execution_count": null,
      "outputs": [
        {
          "output_type": "stream",
          "name": "stdout",
          "text": [
            "4.014151434004337 16.883387663625182\n"
          ]
        }
      ]
    }
  ]
}